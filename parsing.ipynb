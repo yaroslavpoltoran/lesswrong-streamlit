{
 "cells": [
  {
   "cell_type": "markdown",
   "metadata": {},
   "source": [
    "It is very bad code for parsing, but it worked. I will rewrite it later. Or not. Also, libraries for parsing are not in requirements.txt, because this project is not about parsing."
   ]
  },
  {
   "attachments": {},
   "cell_type": "markdown",
   "metadata": {},
   "source": [
    "# url"
   ]
  },
  {
   "cell_type": "code",
   "execution_count": 108,
   "metadata": {},
   "outputs": [],
   "source": [
    "import time\n",
    "\n",
    "import json\n",
    "from tqdm import tqdm\n",
    "\n",
    "from selenium import webdriver\n",
    "from selenium.webdriver.common.by import By\n",
    "from selenium.webdriver.common.action_chains import ActionChains"
   ]
  },
  {
   "cell_type": "code",
   "execution_count": 6,
   "metadata": {},
   "outputs": [],
   "source": [
    "link = 'https://www.lesswrong.com/users/eliezer_yudkowsky?sortedBy=top'"
   ]
  },
  {
   "cell_type": "code",
   "execution_count": 7,
   "metadata": {},
   "outputs": [],
   "source": [
    "def get_browser(link):\n",
    "    op = webdriver.ChromeOptions()\n",
    "    # op.add_argument(\"headless\")\n",
    "    browser = webdriver.Chrome(options=op)\n",
    "    browser.get(link)\n",
    "    return browser"
   ]
  },
  {
   "cell_type": "code",
   "execution_count": 8,
   "metadata": {},
   "outputs": [],
   "source": [
    "browser = get_browser(link)"
   ]
  },
  {
   "cell_type": "code",
   "execution_count": 74,
   "metadata": {},
   "outputs": [
    {
     "name": "stdout",
     "output_type": "stream",
     "text": [
      "0\n",
      "1\n",
      "2\n",
      "3\n",
      "4\n",
      "5\n",
      "6\n",
      "7\n",
      "8\n",
      "9\n",
      "10\n",
      "11\n",
      "12\n",
      "13\n",
      "14\n",
      "15\n",
      "16\n",
      "17\n",
      "18\n",
      "19\n"
     ]
    }
   ],
   "source": [
    "for i in range(20):\n",
    "    print(i)\n",
    "    try:\n",
    "        load_more_button = browser.find_element(By.XPATH, '//*[@id=\"wrapper\"]/div[4]/div[2]/div[2]/div[4]/div[3]/aside/a')\n",
    "        ActionChains(browser).move_to_element(load_more_button).click(load_more_button).perform()\n",
    "        time.sleep(3)\n",
    "    except:\n",
    "        time.sleep(3)"
   ]
  },
  {
   "cell_type": "code",
   "execution_count": 79,
   "metadata": {},
   "outputs": [],
   "source": [
    "def get_inner_table(row):\n",
    "    try:\n",
    "        row = row.find_element(\n",
    "            by=By.XPATH, \n",
    "            value='./div[@class=\"LWPostsItem-root LWPostsItem-background LWPostsItem-bottomBorder\"]'\n",
    "        )\n",
    "    except:\n",
    "        row = row.find_element(\n",
    "            by=By.XPATH, \n",
    "            value='./div[@class=\"LWPostsItem-root LWPostsItem-background\"]'\n",
    "        )\n",
    "    \n",
    "    row = row.find_element(\n",
    "        by=By.XPATH, \n",
    "        value='./div[@class=\"LWPostsItem-postsItem LWPostsItem-withGrayHover\"]'\n",
    "    )\n",
    "    return row"
   ]
  },
  {
   "cell_type": "code",
   "execution_count": 80,
   "metadata": {},
   "outputs": [],
   "source": [
    "table = browser.find_element(By.XPATH, '//*[@id=\"wrapper\"]/div[4]/div[2]/div[2]/div[4]/div[3]/div')"
   ]
  },
  {
   "cell_type": "code",
   "execution_count": 81,
   "metadata": {},
   "outputs": [
    {
     "data": {
      "text/plain": [
       "510"
      ]
     },
     "execution_count": 81,
     "metadata": {},
     "output_type": "execute_result"
    }
   ],
   "source": [
    "table_rows = table.find_elements(by=By.CLASS_NAME, value='LWPostsItem-row')\n",
    "table_rows = [get_inner_table(row) for row in table_rows]\n",
    "len(table_rows)"
   ]
  },
  {
   "cell_type": "code",
   "execution_count": 98,
   "metadata": {},
   "outputs": [
    {
     "data": {
      "text/plain": [
       "'AGI Ruin: A List of Lethalities'"
      ]
     },
     "execution_count": 98,
     "metadata": {},
     "output_type": "execute_result"
    }
   ],
   "source": [
    "# title\n",
    "table_rows[0].find_element(\n",
    "    by=By.XPATH, \n",
    "    value='./span[@class=\"LWPostsItem-title\"]/span/span[@class=\"PostsTitle-root\"]/span[@class=\"PostsTitle-eaTitleDesktopEllipsis\"]'\n",
    ").text"
   ]
  },
  {
   "cell_type": "code",
   "execution_count": 99,
   "metadata": {},
   "outputs": [
    {
     "data": {
      "text/plain": [
       "'https://www.lesswrong.com/posts/uMQ3cqWDPHhjtiesc/agi-ruin-a-list-of-lethalities'"
      ]
     },
     "execution_count": 99,
     "metadata": {},
     "output_type": "execute_result"
    }
   ],
   "source": [
    "# url\n",
    "table_rows[0].find_element(\n",
    "    by=By.XPATH, \n",
    "    value='./span[@class=\"LWPostsItem-title\"]/span/span[@class=\"PostsTitle-root\"]/span[@class=\"PostsTitle-eaTitleDesktopEllipsis\"]/a'\n",
    ").get_attribute('href')"
   ]
  },
  {
   "cell_type": "code",
   "execution_count": 84,
   "metadata": {},
   "outputs": [
    {
     "data": {
      "text/plain": [
       "'802'"
      ]
     },
     "execution_count": 84,
     "metadata": {},
     "output_type": "execute_result"
    }
   ],
   "source": [
    "# karma\n",
    "table_rows[0].find_element(\n",
    "    by=By.XPATH, \n",
    "    value='./span[@class=\"Typography-root Typography-body2 PostsItem2MetaInfo-metaInfo LWPostsItem-karma\"]'\n",
    ").text"
   ]
  },
  {
   "cell_type": "code",
   "execution_count": 102,
   "metadata": {},
   "outputs": [
    {
     "data": {
      "text/plain": [
       "'660'"
      ]
     },
     "execution_count": 102,
     "metadata": {},
     "output_type": "execute_result"
    }
   ],
   "source": [
    "# comments\n",
    "table_rows[0].find_element(\n",
    "    by=By.XPATH, \n",
    "    value='./div[@class=\"LWPostsItem-commentsIcon\"]'\n",
    ").text"
   ]
  },
  {
   "cell_type": "code",
   "execution_count": 104,
   "metadata": {},
   "outputs": [
    {
     "name": "stderr",
     "output_type": "stream",
     "text": [
      "100%|██████████| 510/510 [01:07<00:00,  7.55it/s]\n"
     ]
    }
   ],
   "source": [
    "result = {}\n",
    "for cnt, row in enumerate(tqdm(table_rows)):\n",
    "    title = row.find_element(\n",
    "        by=By.XPATH, \n",
    "        value='./span[@class=\"LWPostsItem-title\"]/span/span[@class=\"PostsTitle-root\"]/span[@class=\"PostsTitle-eaTitleDesktopEllipsis\"]'\n",
    "    ).text\n",
    "    url = row.find_element(\n",
    "        by=By.XPATH, \n",
    "        value='./span[@class=\"LWPostsItem-title\"]/span/span[@class=\"PostsTitle-root\"]/span[@class=\"PostsTitle-eaTitleDesktopEllipsis\"]/a'\n",
    "    ).get_attribute('href')\n",
    "    karma = row.find_element(\n",
    "        by=By.XPATH, \n",
    "        value='./span[@class=\"Typography-root Typography-body2 PostsItem2MetaInfo-metaInfo LWPostsItem-karma\"]'\n",
    "    ).text\n",
    "    karma = int(karma)\n",
    "    n_comments = row.find_element(\n",
    "        by=By.XPATH, \n",
    "        value='./div[@class=\"LWPostsItem-commentsIcon\"]'\n",
    "    ).text\n",
    "    n_comments = int(n_comments)\n",
    "\n",
    "    result[cnt] = {}\n",
    "    result[cnt]['title'] = title\n",
    "    result[cnt]['url'] = url\n",
    "    result[cnt]['karma'] = karma\n",
    "    result[cnt]['n_comments'] = n_comments"
   ]
  },
  {
   "cell_type": "code",
   "execution_count": 106,
   "metadata": {},
   "outputs": [
    {
     "data": {
      "text/plain": [
       "{'title': 'AGI Ruin: A List of Lethalities',\n",
       " 'url': 'https://www.lesswrong.com/posts/uMQ3cqWDPHhjtiesc/agi-ruin-a-list-of-lethalities',\n",
       " 'karma': 802,\n",
       " 'n_comments': 660}"
      ]
     },
     "execution_count": 106,
     "metadata": {},
     "output_type": "execute_result"
    }
   ],
   "source": [
    "result[0]"
   ]
  },
  {
   "cell_type": "code",
   "execution_count": 109,
   "metadata": {},
   "outputs": [],
   "source": [
    "with open('title_url.json', \"w\") as fp:\n",
    "    json.dump(result, fp, sort_keys=True, indent=4, ensure_ascii=False)"
   ]
  },
  {
   "attachments": {},
   "cell_type": "markdown",
   "metadata": {},
   "source": [
    "# text"
   ]
  },
  {
   "cell_type": "code",
   "execution_count": 144,
   "metadata": {},
   "outputs": [],
   "source": [
    "from datetime import datetime\n",
    "import time\n",
    "\n",
    "import json\n",
    "from tqdm import tqdm\n",
    "\n",
    "from selenium import webdriver\n",
    "from selenium.webdriver.common.by import By\n",
    "from selenium.webdriver.common.action_chains import ActionChains"
   ]
  },
  {
   "cell_type": "code",
   "execution_count": 133,
   "metadata": {},
   "outputs": [],
   "source": [
    "DEBUG_URL = 'https://www.lesswrong.com/posts/uXn3LyA8eNqpvdoZw/preface'\n",
    "DEBUG_URL = 'https://www.lesswrong.com/posts/KYuR2HcWPEmXZqMZs/eliezer-yudkowsky-s-shortform'\n",
    "DEBUG_URL = 'https://www.lesswrong.com/posts/uMQ3cqWDPHhjtiesc/agi-ruin-a-list-of-lethalities'"
   ]
  },
  {
   "cell_type": "code",
   "execution_count": 145,
   "metadata": {},
   "outputs": [],
   "source": [
    "def date_into_ds(date):\n",
    "    date = datetime.strptime(date, \"%dth %b %Y\")\n",
    "    date = date.strftime(\"%Y%m%d\")\n",
    "    return date"
   ]
  },
  {
   "cell_type": "code",
   "execution_count": 125,
   "metadata": {},
   "outputs": [],
   "source": [
    "def get_empty_browser():\n",
    "    op = webdriver.ChromeOptions()\n",
    "    # op.add_argument(\"headless\")\n",
    "    browser = webdriver.Chrome(options=op)\n",
    "    return browser"
   ]
  },
  {
   "cell_type": "code",
   "execution_count": 126,
   "metadata": {},
   "outputs": [],
   "source": [
    "browser = get_empty_browser()"
   ]
  },
  {
   "cell_type": "code",
   "execution_count": 134,
   "metadata": {},
   "outputs": [],
   "source": [
    "browser.get(DEBUG_URL)"
   ]
  },
  {
   "cell_type": "code",
   "execution_count": 135,
   "metadata": {},
   "outputs": [
    {
     "data": {
      "text/plain": [
       "'Preamble:\\n(If you\\'re already familiar with all basics and don\\'t want any preamble, skip ahead to Section B for technical difficulties of alignment proper.)\\nI have several times failed to write up a well-organized list of reasons why AGI will kill you.  People come in with different ideas about why AGI would be survivable, and want to hear different obviously key points addressed first.  Some fraction of those people are loudly upset with me if the obviously most important points aren\\'t addressed immediately, and I address different points first instead.\\nHaving failed to solve this problem in any good way, I now give up and solve it poorly with a poorly organized list of individual rants.  I\\'m not particularly happy with this list; the alternative was publishing nothing, and publishing this seems marginally more dignified.\\nThree points about the general subject matter of discussion here, numbered so as not to conflict with the list of lethalities:\\n-3.  I\\'m assuming you are already familiar with some basics, and already know what \\'orthogonality\\' and \\'instrumental convergence\\' are and why they\\'re true.  People occasionally claim to me that I need to stop fighting old wars here, because, those people claim to me, those wars have already been won within the important-according-to-them parts of the current audience.  I suppose it\\'s at least true that none of the current major EA funders seem to be visibly in denial about orthogonality or instrumental convergence as such; so, fine.  If you don\\'t know what \\'orthogonality\\' or \\'instrumental convergence\\' are, or don\\'t see for yourself why they\\'re true, you need a different introduction than this one.\\n2\\n-2.  When I say that alignment is lethally difficult, I am not talking about ideal or perfect goals of \\'provable\\' alignment, nor total alignment of superintelligences on exact human values, nor getting AIs to produce satisfactory arguments about moral dilemmas which sorta-reasonable humans disagree about, nor attaining an absolute certainty of an AI not killing everyone.  When I say that alignment is difficult, I mean that in practice, using the techniques we actually have, \"please don\\'t disassemble literally everyone with probability roughly 1\" is an overly large ask that we are not on course to get.  So far as I\\'m concerned, if you can get a powerful AGI that carries out some pivotal superhuman engineering task, with a less than fifty percent change of killing more than one billion people, I\\'ll take it.  Even smaller chances of killing even fewer people would be a nice luxury, but if you can get as incredibly far as \"less than roughly certain to kill everybody\", then you can probably get down to under a 5% chance with only slightly more effort.  Practically all of the difficulty is in getting to \"less than certainty of killing literally everyone\".  Trolley problems are not an interesting subproblem in all of this; if there are any survivors, you solved alignment.  At this point, I no longer care how it works, I don\\'t care how you got there, I am cause-agnostic about whatever methodology you used, all I am looking at is prospective results, all I want is that we have justifiable cause to believe of a pivotally useful AGI \\'this will not kill literally everyone\\'.  Anybody telling you I\\'m asking for stricter \\'alignment\\' than this has failed at reading comprehension.  The big ask from AGI alignment, the basic challenge I am saying is too difficult, is to obtain by any strategy whatsoever a significant chance of there being any survivors.\\n-1.  None of this is about anything being impossible in principle.  The metaphor I usually use is that if a textbook from one hundred years in the future fell into our hands, containing all of the simple ideas that actually work robustly in practice, we could probably build an aligned superintelligence in six months.  For people schooled in machine learning, I use as my metaphor the difference between ReLU activations and sigmoid activations.  Sigmoid activations are complicated and fragile, and do a terrible job of transmitting gradients through many layers; ReLUs are incredibly simple (for the unfamiliar, the activation function is literally max(x, 0)) and work much better.  Most neural networks for the first decades of the field used sigmoids; the idea of ReLUs wasn\\'t discovered, validated, and popularized until decades later.  What\\'s lethal is that we do not have the Textbook From The Future telling us all the simple solutions that actually in real life just work and are robust; we\\'re going to be doing everything with metaphorical sigmoids on the first critical try.  No difficulty discussed here about AGI alignment is claimed by me to be impossible - to merely human science and engineering, let alone in principle - if we had 100 years to solve it using unlimited retries, the way that science usually has an unbounded time budget and unlimited retries.  This list of lethalities is about things we are not on course to solve in practice in time on the first critical try; none of it is meant to make a much stronger claim about things that are impossible in principle.\\nThat said:\\nHere, from my perspective, are some different true things that could be said, to contradict various false things that various different people seem to believe, about why AGI would be survivable on anything remotely remotely resembling the current pathway, or any other pathway we can easily jump to.\\n Section A:\\nThis is a very lethal problem, it has to be solved one way or another, it has to be solved at a minimum strength and difficulty level instead of various easier modes that some dream about, we do not have any visible option of \\'everyone\\' retreating to only solve safe weak problems instead, and failing on the first really dangerous try is fatal.\\n 1.  Alpha Zero blew past all accumulated human knowledge about Go after a day or so of self-play, with no reliance on human playbooks or sample games.  Anyone relying on \"well, it\\'ll get up to human capability at Go, but then have a hard time getting past that because it won\\'t be able to learn from humans any more\" would have relied on vacuum.  AGI will not be upper-bounded by human ability or human learning speed.  Things much smarter than human would be able to learn from less evidence than humans require to have ideas driven into their brains; there are theoretical upper bounds here, but those upper bounds seem very high. (Eg, each bit of information that couldn\\'t already be fully predicted can eliminate at most half the probability mass of all hypotheses under consideration.)  It is not naturally (by default, barring intervention) the case that everything takes place on a timescale that makes it easy for us to react.\\n2.  A cognitive system with sufficiently high cognitive powers, given any medium-bandwidth channel of causal influence, will not find it difficult to bootstrap to overpowering capabilities independent of human infrastructure.  The concrete example I usually use here is nanotech, because there\\'s been pretty detailed analysis of what definitely look like physically attainable lower bounds on what should be possible with nanotech, and those lower bounds are sufficient to carry the point.  My lower-bound model of \"how a sufficiently powerful intelligence would kill everyone, if it didn\\'t want to not do that\" is that it gets access to the Internet, emails some DNA sequences to any of the many many online firms that will take a DNA sequence in the email and ship you back proteins, and bribes/persuades some human who has no idea they\\'re dealing with an AGI to mix proteins in a beaker, which then form a first-stage nanofactory which can build the actual nanomachinery.  (Back when I was first deploying this visualization, the wise-sounding critics said \"Ah, but how do you know even a superintelligence could solve the protein folding problem, if it didn\\'t already have planet-sized supercomputers?\" but one hears less of this after the advent of AlphaFold 2, for some odd reason.)  The nanomachinery builds diamondoid bacteria, that replicate with solar power and atmospheric CHON, maybe aggregate into some miniature rockets or jets so they can ride the jetstream to spread across the Earth\\'s atmosphere, get into human bloodstreams and hide, strike on a timer.  Losing a conflict with a high-powered cognitive system looks at least as deadly as \"everybody on the face of the Earth suddenly falls over dead within the same second\".  (I am using awkward constructions like \\'high cognitive power\\' because standard English terms like \\'smart\\' or \\'intelligent\\' appear to me to function largely as status synonyms.  \\'Superintelligence\\' sounds to most people like \\'something above the top of the status hierarchy that went to double college\\', and they don\\'t understand why that would be all that dangerous?  Earthlings have no word and indeed no standard native concept that means \\'actually useful cognitive power\\'.  A large amount of failure to panic sufficiently, seems to me to stem from a lack of appreciation for the incredible potential lethality of this thing that Earthlings as a culture have not named.)\\n3.  We need to get alignment right on the \\'first critical try\\' at operating at a \\'dangerous\\' level of intelligence, where unaligned operation at a dangerous level of intelligence kills everybody on Earth and then we don\\'t get to try again.  This includes, for example: (a) something smart enough to build a nanosystem which has been explicitly authorized to build a nanosystem; or (b) something smart enough to build a nanosystem and also smart enough to gain unauthorized access to the Internet and pay a human to put together the ingredients for a nanosystem; or (c) something smart enough to get unauthorized access to the Internet and build something smarter than itself on the number of machines it can hack; or (d) something smart enough to treat humans as manipulable machinery and which has any authorized or unauthorized two-way causal channel with humans; or (e) something smart enough to improve itself enough to do (b) or (d); etcetera.  We can gather all sorts of information beforehand from less powerful systems that will not kill us if we screw up operating them; but once we are running more powerful systems, we can no longer update on sufficiently catastrophic errors.  This is where practically all of the real lethality comes from, that we have to get things right on the first sufficiently-critical try.  If we had unlimited retries - if every time an AGI destroyed all the galaxies we got to go back in time four years and try again - we would in a hundred years figure out which bright ideas actually worked.  Human beings can figure out pretty difficult things over time, when they get lots of tries; when a failed guess kills literally everyone, that is harder.  That we have to get a bunch of key stuff right on the first try is where most of the lethality really and ultimately comes from; likewise the fact that no authority is here to tell us a list of what exactly is \\'key\\' and will kill us if we get it wrong.  (One remarks that most people are so absolutely and flatly unprepared by their \\'scientific\\' educations to challenge pre-paradigmatic puzzles with no scholarly authoritative supervision, that they do not even realize how much harder that is, or how incredibly lethal it is to demand getting that right on the first critical try.)\\n4.  We can\\'t just \"decide not to build AGI\" because GPUs are everywhere, and knowledge of algorithms is constantly being improved and published; 2 years after the leading actor has the capability to destroy the world, 5 other actors will have the capability to destroy the world.  The given lethal challenge is to solve within a time limit, driven by the dynamic in which, over time, increasingly weak actors with a smaller and smaller fraction of total computing power, become able to build AGI and destroy the world.  Powerful actors all refraining in unison from doing the suicidal thing just delays this time limit - it does not lift it, unless computer hardware and computer software progress are both brought to complete severe halts across the whole Earth.  The current state of this cooperation to have every big actor refrain from doing the stupid thing, is that at present some large actors with a lot of researchers and computing power are led by people who vocally disdain all talk of AGI safety (eg Facebook AI Research).  Note that needing to solve AGI alignment only within a time limit, but with unlimited safe retries for rapid experimentation on the full-powered system; or only on the first critical try, but with an unlimited time bound; would both be terrifically humanity-threatening challenges by historical standards individually.\\n5.  We can\\'t just build a very weak system, which is less dangerous because it is so weak, and declare victory; because later there will be more actors that have the capability to build a stronger system and one of them will do so.  I\\'ve also in the past called this the \\'safe-but-useless\\' tradeoff, or \\'safe-vs-useful\\'.  People keep on going \"why don\\'t we only use AIs to do X, that seems safe\" and the answer is almost always either \"doing X in fact takes very powerful cognition that is not passively safe\" or, even more commonly, \"because restricting yourself to doing X will not prevent Facebook AI Research from destroying the world six months later\".  If all you need is an object that doesn\\'t do dangerous things, you could try a sponge; a sponge is very passively safe.  Building a sponge, however, does not prevent Facebook AI Research from destroying the world six months later when they catch up to the leading actor.\\n6.  We need to align the performance of some large task, a \\'pivotal act\\' that prevents other people from building an unaligned AGI that destroys the world.  While the number of actors with AGI is few or one, they must execute some \"pivotal act\", strong enough to flip the gameboard, using an AGI powerful enough to do that.  It\\'s not enough to be able to align a weak system - we need to align a system that can do some single very large thing.  The example I usually give is \"burn all GPUs\".  This is not what I think you\\'d actually want to do with a powerful AGI - the nanomachines would need to operate in an incredibly complicated open environment to hunt down all the GPUs, and that would be needlessly difficult to align.  However, all known pivotal acts are currently outside the Overton Window, and I expect them to stay there.  So I picked an example where if anybody says \"how dare you propose burning all GPUs?\" I can say \"Oh, well, I don\\'t actually advocate doing that; it\\'s just a mild overestimate for the rough power level of what you\\'d have to do, and the rough level of machine cognition required to do that, in order to prevent somebody else from destroying the world in six months or three years.\"  (If it wasn\\'t a mild overestimate, then \\'burn all GPUs\\' would actually be the minimal pivotal task and hence correct answer, and I wouldn\\'t be able to give that denial.)  Many clever-sounding proposals for alignment fall apart as soon as you ask \"How could you use this to align a system that you could use to shut down all the GPUs in the world?\" because it\\'s then clear that the system can\\'t do something that powerful, or, if it can do that, the system wouldn\\'t be easy to align.  A GPU-burner is also a system powerful enough to, and purportedly authorized to, build nanotechnology, so it requires operating in a dangerous domain at a dangerous level of intelligence and capability; and this goes along with any non-fantasy attempt to name a way an AGI could change the world such that a half-dozen other would-be AGI-builders won\\'t destroy the world 6 months later.\\n7.  The reason why nobody in this community has successfully named a \\'pivotal weak act\\' where you do something weak enough with an AGI to be passively safe, but powerful enough to prevent any other AGI from destroying the world a year later - and yet also we can\\'t just go do that right now and need to wait on AI - is that nothing like that exists.  There\\'s no reason why it should exist.  There is not some elaborate clever reason why it exists but nobody can see it.  It takes a lot of power to do something to the current world that prevents any other AGI from coming into existence; nothing which can do that is passively safe in virtue of its weakness.  If you can\\'t solve the problem right now (which you can\\'t, because you\\'re opposed to other actors who don\\'t want to be solved and those actors are on roughly the same level as you) then you are resorting to some cognitive system that can do things you could not figure out how to do yourself, that you were not close to figuring out because you are not close to being able to, for example, burn all GPUs.  Burning all GPUs would actually stop Facebook AI Research from destroying the world six months later; weaksauce Overton-abiding stuff about \\'improving public epistemology by setting GPT-4 loose on Twitter to provide scientifically literate arguments about everything\\' will be cool but will not actually prevent Facebook AI Research from destroying the world six months later, or some eager open-source collaborative from destroying the world a year later if you manage to stop FAIR specifically.  There are no pivotal weak acts.\\n8.  The best and easiest-found-by-optimization algorithms for solving problems we want an AI to solve, readily generalize to problems we\\'d rather the AI not solve; you can\\'t build a system that only has the capability to drive red cars and not blue cars, because all red-car-driving algorithms generalize to the capability to drive blue cars.\\n9.  The builders of a safe system, by hypothesis on such a thing being possible, would need to operate their system in a regime where it has the capability to kill everybody or make itself even more dangerous, but has been successfully designed to not do that.  Running AGIs doing something pivotal are not passively safe, they\\'re the equivalent of nuclear cores that require actively maintained design properties to not go supercritical and melt down.\\n Section B:\\nOkay, but as we all know, modern machine learning is like a genie where you just give it a wish, right?  Expressed as some mysterious thing called a \\'loss function\\', but which is basically just equivalent to an English wish phrasing, right?  And then if you pour in enough computing power you get your wish, right?  So why not train a giant stack of transformer layers on a dataset of agents doing nice things and not bad things, throw in the word \\'corrigibility\\' somewhere, crank up that computing power, and get out an aligned AGI?\\n Section B.1:  The distributional leap. \\n10.  You can\\'t train alignment by running lethally dangerous cognitions, observing whether the outputs kill or deceive or corrupt the operators, assigning a loss, and doing supervised learning.  On anything like the standard ML paradigm, you would need to somehow generalize optimization-for-alignment you did in safe conditions, across a big distributional shift to dangerous conditions.  (Some generalization of this seems like it would have to be true even outside that paradigm; you wouldn\\'t be working on a live unaligned superintelligence to align it.)  This alone is a point that is sufficient to kill a lot of naive proposals from people who never did or could concretely sketch out any specific scenario of what training they\\'d do, in order to align what output - which is why, of course, they never concretely sketch anything like that.  Powerful AGIs doing dangerous things that will kill you if misaligned, must have an alignment property that generalized far out-of-distribution from safer building/training operations that didn\\'t kill you.  This is where a huge amount of lethality comes from on anything remotely resembling the present paradigm.  Unaligned operation at a dangerous level of intelligence*capability will kill you; so, if you\\'re starting with an unaligned system and labeling outputs in order to get it to learn alignment, the training regime or building regime must be operating at some lower level of intelligence*capability that is passively safe, where its currently-unaligned operation does not pose any threat.  (Note that anything substantially smarter than you poses a threat given any realistic level of capability.  Eg, \"being able to produce outputs that humans look at\" is probably sufficient for a generally much-smarter-than-human AGI to navigate its way out of the causal systems that are humans, especially in the real world where somebody trained the system on terabytes of Internet text, rather than somehow keeping it ignorant of the latent causes of its source code and training environments.)\\n11.  If cognitive machinery doesn\\'t generalize far out of the distribution where you did tons of training, it can\\'t solve problems on the order of \\'build nanotechnology\\' where it would be too expensive to run a million training runs of failing to build nanotechnology.  There is no pivotal act this weak; there\\'s no known case where you can entrain a safe level of ability on a safe environment where you can cheaply do millions of runs, and deploy that capability to save the world and prevent the next AGI project up from destroying the world two years later.  Pivotal weak acts like this aren\\'t known, and not for want of people looking for them.  So, again, you end up needing alignment to generalize way out of the training distribution - not just because the training environment needs to be safe, but because the training environment probably also needs to be cheaper than evaluating some real-world domain in which the AGI needs to do some huge act.  You don\\'t get 1000 failed tries at burning all GPUs - because people will notice, even leaving out the consequences of capabilities success and alignment failure.\\n12.  Operating at a highly intelligent level is a drastic shift in distribution from operating at a less intelligent level, opening up new external options, and probably opening up even more new internal choices and modes.  Problems that materialize at high intelligence and danger levels may fail to show up at safe lower levels of intelligence, or may recur after being suppressed by a first patch.\\n13.  Many alignment problems of superintelligence will not naturally appear at pre-dangerous, passively-safe levels of capability.  Consider the internal behavior \\'change your outer behavior to deliberately look more aligned and deceive the programmers, operators, and possibly any loss functions optimizing over you\\'.  This problem is one that will appear at the superintelligent level; if, being otherwise ignorant, we guess that it is among the median such problems in terms of how early it naturally appears in earlier systems, then around half of the alignment problems of superintelligence will first naturally materialize after that one first starts to appear.  Given correct foresight of which problems will naturally materialize later, one could try to deliberately materialize such problems earlier, and get in some observations of them.  This helps to the extent (a) that we actually correctly forecast all of the problems that will appear later, or some superset of those; (b) that we succeed in preemptively materializing a superset of problems that will appear later; and (c) that we can actually solve, in the earlier laboratory that is out-of-distribution for us relative to the real problems, those alignment problems that would be lethal if we mishandle them when they materialize later.  Anticipating all of the really dangerous ones, and then successfully materializing them, in the correct form for early solutions to generalize over to later solutions, sounds possibly kinda hard.\\n14.  Some problems, like \\'the AGI has an option that (looks to it like) it could successfully kill and replace the programmers to fully optimize over its environment\\', seem like their natural order of appearance could be that they first appear only in fully dangerous domains.  Really actually having a clear option to brain-level-persuade the operators or escape onto the Internet, build nanotech, and destroy all of humanity - in a way where you\\'re fully clear that you know the relevant facts, and estimate only a not-worth-it low probability of learning something which changes your preferred strategy if you bide your time another month while further growing in capability - is an option that first gets evaluated for real at the point where an AGI fully expects it can defeat its creators.  We can try to manifest an echo of that apparent scenario in earlier toy domains.  Trying to train by gradient descent against that behavior, in that toy domain, is something I\\'d expect to produce not-particularly-coherent local patches to thought processes, which would break with near-certainty inside a superintelligence generalizing far outside the training distribution and thinking very different thoughts.  Also, programmers and operators themselves, who are used to operating in not-fully-dangerous domains, are operating out-of-distribution when they enter into dangerous ones; our methodologies may at that time break.\\n15.  Fast capability gains seem likely, and may break lots of previous alignment-required invariants simultaneously.  Given otherwise insufficient foresight by the operators, I\\'d expect a lot of those problems to appear approximately simultaneously after a sharp capability gain.  See, again, the case of human intelligence.  We didn\\'t break alignment with the \\'inclusive reproductive fitness\\' outer loss function, immediately after the introduction of farming - something like 40,000 years into a 50,000 year Cro-Magnon takeoff, as was itself running very quickly relative to the outer optimization loop of natural selection.  Instead, we got a lot of technology more advanced than was in the ancestral environment, including contraception, in one very fast burst relative to the speed of the outer optimization loop, late in the general intelligence game.  We started reflecting on ourselves a lot more, started being programmed a lot more by cultural evolution, and lots and lots of assumptions underlying our alignment in the ancestral training environment broke simultaneously.  (People will perhaps rationalize reasons why this abstract description doesn\\'t carry over to gradient descent; eg, “gradient descent has less of an information bottleneck”.  My model of this variety of reader has an inside view, which they will label an outside view, that assigns great relevance to some other data points that are not observed cases of an outer optimization loop producing an inner general intelligence, and assigns little importance to our one data point actually featuring the phenomenon in question.  When an outer optimization loop actually produced general intelligence, it broke alignment after it turned general, and did so relatively late in the game of that general intelligence accumulating capability and knowledge, almost immediately before it turned \\'lethally\\' dangerous relative to the outer optimization loop of natural selection.  Consider skepticism, if someone is ignoring this one warning, especially if they are not presenting equally lethal and dangerous things that they say will go wrong instead.)\\n Section B.2:  Central difficulties of outer and inner alignment. \\n16.  Even if you train really hard on an exact loss function, that doesn\\'t thereby create an explicit internal representation of the loss function inside an AI that then continues to pursue that exact loss function in distribution-shifted environments.  Humans don\\'t explicitly pursue inclusive genetic fitness; outer optimization even on a very exact, very simple loss function doesn\\'t produce inner optimization in that direction.  This happens in practice in real life, it is what happened in the only case we know about, and it seems to me that there are deep theoretical reasons to expect it to happen again: the first semi-outer-aligned solutions found, in the search ordering of a real-world bounded optimization process, are not inner-aligned solutions.  This is sufficient on its own, even ignoring many other items on this list, to trash entire categories of naive alignment proposals which assume that if you optimize a bunch on a loss function calculated using some simple concept, you get perfect inner alignment on that concept.\\n17.  More generally, a superproblem of \\'outer optimization doesn\\'t produce inner alignment\\' is that on the current optimization paradigm there is no general idea of how to get particular inner properties into a system, or verify that they\\'re there, rather than just observable outer ones you can run a loss function over.  This is a problem when you\\'re trying to generalize out of the original training distribution, because, eg, the outer behaviors you see could have been produced by an inner-misaligned system that is deliberately producing outer behaviors that will fool you.  We don\\'t know how to get any bits of information into the inner system rather than the outer behaviors, in any systematic or general way, on the current optimization paradigm.\\n18.  There\\'s no reliable Cartesian-sensory ground truth (reliable loss-function-calculator) about whether an output is \\'aligned\\', because some outputs destroy (or fool) the human operators and produce a different environmental causal chain behind the externally-registered loss function.  That is, if you show an agent a reward signal that\\'s currently being generated by humans, the signal is not in general a reliable perfect ground truth about how aligned an action was, because another way of producing a high reward signal is to deceive, corrupt, or replace the human operators with a different causal system which generates that reward signal.  When you show an agent an environmental reward signal, you are not showing it something that is a reliable ground truth about whether the system did the thing you wanted it to do; even if it ends up perfectly inner-aligned on that reward signal, or learning some concept that exactly corresponds to \\'wanting states of the environment which result in a high reward signal being sent\\', an AGI strongly optimizing on that signal will kill you, because the sensory reward signal was not a ground truth about alignment (as seen by the operators).\\n19.  More generally, there is no known way to use the paradigm of loss functions, sensory inputs, and/or reward inputs, to optimize anything within a cognitive system to point at particular things within the environment - to point to latent events and objects and properties in the environment, rather than relatively shallow functions of the sense data and reward.  This isn\\'t to say that nothing in the system’s goal (whatever goal accidentally ends up being inner-optimized over) could ever point to anything in the environment by accident.  Humans ended up pointing to their environments at least partially, though we\\'ve got lots of internally oriented motivational pointers as well.  But insofar as the current paradigm works at all, the on-paper design properties say that it only works for aligning on known direct functions of sense data and reward functions.  All of these kill you if optimized-over by a sufficiently powerful intelligence, because they imply strategies like \\'kill everyone in the world using nanotech to strike before they know they\\'re in a battle, and have control of your reward button forever after\\'.  It just isn\\'t true that we know a function on webcam input such that every world with that webcam showing the right things is safe for us creatures outside the webcam.  This general problem is a fact about the territory, not the map; it\\'s a fact about the actual environment, not the particular optimizer, that lethal-to-us possibilities exist in some possible environments underlying every given sense input.\\n20.  Human operators are fallible, breakable, and manipulable.  Human raters make systematic errors - regular, compactly describable, predictable errors.  To faithfully learn a function from \\'human feedback\\' is to learn (from our external standpoint) an unfaithful description of human preferences, with errors that are not random (from the outside standpoint of what we\\'d hoped to transfer).  If you perfectly learn and perfectly maximize the referent of rewards assigned by human operators, that kills them.  It\\'s a fact about the territory, not the map - about the environment, not the optimizer - that the best predictive explanation for human answers is one that predicts the systematic errors in our responses, and therefore is a psychological concept that correctly predicts the higher scores that would be assigned to human-error-producing cases.\\n21.  There\\'s something like a single answer, or a single bucket of answers, for questions like \\'What\\'s the environment really like?\\' and \\'How do I figure out the environment?\\' and \\'Which of my possible outputs interact with reality in a way that causes reality to have certain properties?\\', where a simple outer optimization loop will straightforwardly shove optimizees into this bucket.  When you have a wrong belief, reality hits back at your wrong predictions.  When you have a broken belief-updater, reality hits back at your broken predictive mechanism via predictive losses, and a gradient descent update fixes the problem in a simple way that can easily cohere with all the other predictive stuff.  In contrast, when it comes to a choice of utility function, there are unbounded degrees of freedom and multiple reflectively coherent fixpoints.  Reality doesn\\'t \\'hit back\\' against things that are locally aligned with the loss function on a particular range of test cases, but globally misaligned on a wider range of test cases.  This is the very abstract story about why hominids, once they finally started to generalize, generalized their capabilities to Moon landings, but their inner optimization no longer adhered very well to the outer-optimization goal of \\'relative inclusive reproductive fitness\\' - even though they were in their ancestral environment optimized very strictly around this one thing and nothing else.  This abstract dynamic is something you\\'d expect to be true about outer optimization loops on the order of both \\'natural selection\\' and \\'gradient descent\\'.  The central result:  Capabilities generalize further than alignment once capabilities start to generalize far.\\n22.  There\\'s a relatively simple core structure that explains why complicated cognitive machines work; which is why such a thing as general intelligence exists and not just a lot of unrelated special-purpose solutions; which is why capabilities generalize after outer optimization infuses them into something that has been optimized enough to become a powerful inner optimizer.  The fact that this core structure is simple and relates generically to low-entropy high-structure environments is why humans can walk on the Moon.  There is no analogous truth about there being a simple core of alignment, especially not one that is even easier for gradient descent to find than it would have been for natural selection to just find \\'want inclusive reproductive fitness\\' as a well-generalizing solution within ancestral humans.  Therefore, capabilities generalize further out-of-distribution than alignment, once they start to generalize at all.\\n23.  Corrigibility is anti-natural to consequentialist reasoning; \"you can\\'t bring the coffee if you\\'re dead\" for almost every kind of coffee.  We (MIRI) tried and failed to find a coherent formula for an agent that would let itself be shut down (without that agent actively trying to get shut down).  Furthermore, many anti-corrigible lines of reasoning like this may only first appear at high levels of intelligence.\\n24.  There are two fundamentally different approaches you can potentially take to alignment, which are unsolvable for two different sets of reasons; therefore, by becoming confused and ambiguating between the two approaches, you can confuse yourself about whether alignment is necessarily difficult.  The first approach is to build a CEV-style Sovereign which wants exactly what we extrapolated-want and is therefore safe to let optimize all the future galaxies without it accepting any human input trying to stop it.  The second course is to build corrigible AGI which doesn\\'t want exactly what we want, and yet somehow fails to kill us and take over the galaxies despite that being a convergent incentive there.\\nThe first thing generally, or CEV specifically, is unworkable because the complexity of what needs to be aligned or meta-aligned for our Real Actual Values is far out of reach for our FIRST TRY at AGI.  Yes I mean specifically that the dataset, meta-learning algorithm, and what needs to be learned, is far out of reach for our first try.  It\\'s not just non-hand-codable, it is unteachable on-the-first-try because the thing you are trying to teach is too weird and complicated.\\nThe second thing looks unworkable (less so than CEV, but still lethally unworkable) because corrigibility runs actively counter to instrumentally convergent behaviors within a core of general intelligence (the capability that generalizes far out of its original distribution).  You\\'re not trying to make it have an opinion on something the core was previously neutral on.  You\\'re trying to take a system implicitly trained on lots of arithmetic problems until its machinery started to reflect the common coherent core of arithmetic, and get it to say that as a special case 222 + 222 = 555.  You can maybe train something to do this in a particular training distribution, but it\\'s incredibly likely to break when you present it with new math problems far outside that training distribution, on a system which successfully generalizes capabilities that far at all.\\n Section B.3:  Central difficulties of sufficiently good and useful transparency / interpretability.\\n25.  We\\'ve got no idea what\\'s actually going on inside the giant inscrutable matrices and tensors of floating-point numbers.  Drawing interesting graphs of where a transformer layer is focusing attention doesn\\'t help if the question that needs answering is \"So was it planning how to kill us or not?\"\\n26.  Even if we did know what was going on inside the giant inscrutable matrices while the AGI was still too weak to kill us, this would just result in us dying with more dignity, if DeepMind refused to run that system and let Facebook AI Research destroy the world two years later.  Knowing that a medium-strength system of inscrutable matrices is planning to kill us, does not thereby let us build a high-strength system of inscrutable matrices that isn\\'t planning to kill us.\\n27.  When you explicitly optimize against a detector of unaligned thoughts, you\\'re partially optimizing for more aligned thoughts, and partially optimizing for unaligned thoughts that are harder to detect.  Optimizing against an interpreted thought optimizes against interpretability.\\n28.  The AGI is smarter than us in whatever domain we\\'re trying to operate it inside, so we cannot mentally check all the possibilities it examines, and we cannot see all the consequences of its outputs using our own mental talent.  A powerful AI searches parts of the option space we don\\'t, and we can\\'t foresee all its options.\\n29.  The outputs of an AGI go through a huge, not-fully-known-to-us domain (the real world) before they have their real consequences.  Human beings cannot inspect an AGI\\'s output to determine whether the consequences will be good.\\n30.  Any pivotal act that is not something we can go do right now, will take advantage of the AGI figuring out things about the world we don\\'t know so that it can make plans we wouldn\\'t be able to make ourselves.  It knows, at the least, the fact we didn\\'t previously know, that some action sequence results in the world we want.  Then humans will not be competent to use their own knowledge of the world to figure out all the results of that action sequence.  An AI whose action sequence you can fully understand all the effects of, before it executes, is much weaker than humans in that domain; you couldn\\'t make the same guarantee about an unaligned human as smart as yourself and trying to fool you.  There is no pivotal output of an AGI that is humanly checkable and can be used to safely save the world but only after checking it; this is another form of pivotal weak act which does not exist.\\n31.  A strategically aware intelligence can choose its visible outputs to have the consequence of deceiving you, including about such matters as whether the intelligence has acquired strategic awareness; you can\\'t rely on behavioral inspection to determine facts about an AI which that AI might want to deceive you about.  (Including how smart it is, or whether it\\'s acquired strategic awareness.)\\n32.  Human thought partially exposes only a partially scrutable outer surface layer.  Words only trace our real thoughts.  Words are not an AGI-complete data representation in its native style.  The underparts of human thought are not exposed for direct imitation learning and can\\'t be put in any dataset.  This makes it hard and probably impossible to train a powerful system entirely on imitation of human words or other human-legible contents, which are only impoverished subsystems of human thoughts; unless that system is powerful enough to contain inner intelligences figuring out the humans, and at that point it is no longer really working as imitative human thought.\\n33.  The AI does not think like you do, the AI doesn\\'t have thoughts built up from the same concepts you use, it is utterly alien on a staggering scale.  Nobody knows what the hell GPT-3 is thinking, not only because the matrices are opaque, but because the stuff within that opaque container is, very likely, incredibly alien - nothing that would translate well into comprehensible human thinking, even if we could see past the giant wall of floating-point numbers to what lay behind.\\n Section B.4:  Miscellaneous unworkable schemes. \\n34.  Coordination schemes between superintelligences are not things that humans can participate in (eg because humans can\\'t reason reliably about the code of superintelligences); a \"multipolar\" system of 20 superintelligences with different utility functions, plus humanity, has a natural and obvious equilibrium which looks like \"the 20 superintelligences cooperate with each other but not with humanity\".\\n35.  Schemes for playing \"different\" AIs off against each other stop working if those AIs advance to the point of being able to coordinate via reasoning about (probability distributions over) each others\\' code.  Any system of sufficiently intelligent agents can probably behave as a single agent, even if you imagine you\\'re playing them against each other.  Eg, if you set an AGI that is secretly a paperclip maximizer, to check the output of a nanosystems designer that is secretly a staples maximizer, then even if the nanosystems designer is not able to deduce what the paperclip maximizer really wants (namely paperclips), it could still logically commit to share half the universe with any agent checking its designs if those designs were allowed through, if the checker-agent can verify the suggester-system\\'s logical commitment and hence logically depend on it (which excludes human-level intelligences).  Or, if you prefer simplified catastrophes without any logical decision theory, the suggester could bury in its nanosystem design the code for a new superintelligence that will visibly (to a superhuman checker) divide the universe between the nanosystem designer and the design-checker.\\n36.  What makes an air conditioner \\'magic\\' from the perspective of say the thirteenth century, is that even if you correctly show them the design of the air conditioner in advance, they won\\'t be able to understand from seeing that design why the air comes out cold; the design is exploiting regularities of the environment, rules of the world, laws of physics, that they don\\'t know about.  The domain of human thought and human brains is very poorly understood by us, and exhibits phenomena like optical illusions, hypnosis, psychosis, mania, or simple afterimages produced by strong stimuli in one place leaving neural effects in another place.  Maybe a superintelligence couldn\\'t defeat a human in a very simple realm like logical tic-tac-toe; if you\\'re fighting it in an incredibly complicated domain you understand poorly, like human minds, you should expect to be defeated by \\'magic\\' in the sense that even if you saw its strategy you would not understand why that strategy worked.  AI-boxing can only work on relatively weak AGIs; the human operators are not secure systems.\\n Section C:\\nOkay, those are some significant problems, but lots of progress is being made on solving them, right?  There\\'s a whole field calling itself \"AI Safety\" and many major organizations are expressing Very Grave Concern about how \"safe\" and \"ethical\" they are?\\n 37.  There\\'s a pattern that\\'s played out quite often, over all the times the Earth has spun around the Sun, in which some bright-eyed young scientist, young engineer, young entrepreneur, proceeds in full bright-eyed optimism to challenge some problem that turns out to be really quite difficult.  Very often the cynical old veterans of the field try to warn them about this, and the bright-eyed youngsters don\\'t listen, because, like, who wants to hear about all that stuff, they want to go solve the problem!  Then this person gets beaten about the head with a slipper by reality as they find out that their brilliant speculative theory is wrong, it\\'s actually really hard to build the thing because it keeps breaking, and society isn\\'t as eager to adopt their clever innovation as they might\\'ve hoped, in a process which eventually produces a new cynical old veteran.  Which, if not literally optimal, is I suppose a nice life cycle to nod along to in a nature-show sort of way.  Sometimes you do something for the first time and there are no cynical old veterans to warn anyone and people can be really optimistic about how it will go; eg the initial Dartmouth Summer Research Project on Artificial Intelligence in 1956:  \"An attempt will be made to find how to make machines use language, form abstractions and concepts, solve kinds of problems now reserved for humans, and improve themselves. We think that a significant advance can be made in one or more of these problems if a carefully selected group of scientists work on it together for a summer.\"  This is less of a viable survival plan for your planet if the first major failure of the bright-eyed youngsters kills literally everyone before they can predictably get beaten about the head with the news that there were all sorts of unforeseen difficulties and reasons why things were hard.  You don\\'t get any cynical old veterans, in this case, because everybody on Earth is dead.  Once you start to suspect you\\'re in that situation, you have to do the Bayesian thing and update now to the view you will predictably update to later: realize you\\'re in a situation of being that bright-eyed person who is going to encounter Unexpected Difficulties later and end up a cynical old veteran - or would be, except for the part where you\\'ll be dead along with everyone else.  And become that cynical old veteran right away, before reality whaps you upside the head in the form of everybody dying and you not getting to learn.  Everyone else seems to feel that, so long as reality hasn\\'t whapped them upside the head yet and smacked them down with the actual difficulties, they\\'re free to go on living out the standard life-cycle and play out their role in the script and go on being bright-eyed youngsters; there\\'s no cynical old veterans to warn them otherwise, after all, and there\\'s no proof that everything won\\'t go beautifully easy and fine, given their bright-eyed total ignorance of what those later difficulties could be.\\n38.  It does not appear to me that the field of \\'AI safety\\' is currently being remotely productive on tackling its enormous lethal problems.  These problems are in fact out of reach; the contemporary field of AI safety has been selected to contain people who go to work in that field anyways.  Almost all of them are there to tackle problems on which they can appear to succeed and publish a paper claiming success; if they can do that and get funded, why would they embark on a much more unpleasant project of trying something harder that they\\'ll fail at, just so the human species can die with marginally more dignity?  This field is not making real progress and does not have a recognition function to distinguish real progress if it took place.  You could pump a billion dollars into it and it would produce mostly noise to drown out what little progress was being made elsewhere.\\n39.  I figured this stuff out using the null string as input, and frankly, I have a hard time myself feeling hopeful about getting real alignment work out of somebody who previously sat around waiting for somebody else to input a persuasive argument into them.  This ability to \"notice lethal difficulties without Eliezer Yudkowsky arguing you into noticing them\" currently is an opaque piece of cognitive machinery to me, I do not know how to train it into others.  It probably relates to \\'security mindset\\', and a mental motion where you refuse to play out scripts, and being able to operate in a field that\\'s in a state of chaos.\\n3\\n40.  \"Geniuses\" with nice legible accomplishments in fields with tight feedback loops where it\\'s easy to determine which results are good or bad right away, and so validate that this person is a genius, are (a) people who might not be able to do equally great work away from tight feedback loops, (b) people who chose a field where their genius would be nicely legible even if that maybe wasn\\'t the place where humanity most needed a genius, and (c) probably don\\'t have the mysterious gears simply because they\\'re rare.  You cannot just pay $5 million apiece to a bunch of legible geniuses from other fields and expect to get great alignment work out of them.  They probably do not know where the real difficulties are, they probably do not understand what needs to be done, they cannot tell the difference between good and bad work, and the funders also can\\'t tell without me standing over their shoulders evaluating everything, which I do not have the physical stamina to do.  I concede that real high-powered talents, especially if they\\'re still in their 20s, genuinely interested, and have done their reading, are people who, yeah, fine, have higher probabilities of making core contributions than a random bloke off the street. But I\\'d have more hope - not significant hope, but more hope - in separating the concerns of (a) credibly promising to pay big money retrospectively for good work to anyone who produces it, and (b) venturing prospective payments to somebody who is predicted to maybe produce good work later.\\n2\\n41.  Reading this document cannot make somebody a core alignment researcher.  That requires, not the ability to read this document and nod along with it, but the ability to spontaneously write it from scratch without anybody else prompting you; that is what makes somebody a peer of its author.  It\\'s guaranteed that some of my analysis is mistaken, though not necessarily in a hopeful direction.  The ability to do new basic work noticing and fixing those flaws is the same ability as the ability to write this document before I published it, which nobody apparently did, despite my having had other things to do than write this up for the last five years or so.  Some of that silence may, possibly, optimistically, be due to nobody else in this field having the ability to write things comprehensibly - such that somebody out there had the knowledge to write all of this themselves, if they could only have written it up, but they couldn\\'t write, so didn\\'t try.  I\\'m not particularly hopeful of this turning out to be true in real life, but I suppose it\\'s one possible place for a \"positive model violation\" (miracle).  The fact that, twenty-one years into my entering this death game, seven years into other EAs noticing the death game, and two years into even normies starting to notice the death game, it is still Eliezer Yudkowsky writing up this list, says that humanity still has only one gamepiece that can do that.  I knew I did not actually have the physical stamina to be a star researcher, I tried really really hard to replace myself before my health deteriorated further, and yet here I am writing this.  That\\'s not what surviving worlds look like.\\n42.  There\\'s no plan.  Surviving worlds, by this point, and in fact several decades earlier, have a plan for how to survive.  It is a written plan.  The plan is not secret.  In this non-surviving world, there are no candidate plans that do not immediately fall to Eliezer instantly pointing at the giant visible gaping holes in that plan.  Or if you don\\'t know who Eliezer is, you don\\'t even realize you need a plan, because, like, how would a human being possibly realize that without Eliezer yelling at them?  It\\'s not like people will yell at themselves about prospective alignment difficulties, they don\\'t have an internal voice of caution.  So most organizations don\\'t have plans, because I haven\\'t taken the time to personally yell at them.  \\'Maybe we should have a plan\\' is deeper alignment mindset than they possess without me standing constantly on their shoulder as their personal angel pleading them into... continued noncompliance, in fact.  Relatively few are aware even that they should, to look better, produce a pretend plan that can fool EAs too \\'modest\\' to trust their own judgments about seemingly gaping holes in what serious-looking people apparently believe.\\n43.  This situation you see when you look around you is not what a surviving world looks like.  The worlds of humanity that survive have plans.  They are not leaving to one tired guy with health problems the entire responsibility of pointing out real and lethal problems proactively.  Key people are taking internal and real responsibility for finding flaws in their own plans, instead of considering it their job to propose solutions and somebody else\\'s job to prove those solutions wrong.  That world started trying to solve their important lethal problems earlier than this.  Half the people going into string theory shifted into AI alignment instead and made real progress there.  When people suggest a planetarily-lethal problem that might materialize later - there\\'s a lot of people suggesting those, in the worlds destined to live, and they don\\'t have a special status in the field, it\\'s just what normal geniuses there do - they\\'re met with either solution plans or a reason why that shouldn\\'t happen, not an uncomfortable shrug and \\'How can you be sure that will happen\\' / \\'There\\'s no way you could be sure of that now, we\\'ll have to wait on experimental evidence.\\'\\nA lot of those better worlds will die anyways.  It\\'s a genuinely difficult problem, to solve something like that on your first try.  But they\\'ll die with more dignity than this.'"
      ]
     },
     "execution_count": 135,
     "metadata": {},
     "output_type": "execute_result"
    }
   ],
   "source": [
    "# text\n",
    "browser.find_element(\n",
    "    by=By.XPATH, \n",
    "    value='.//*[@class=\"commentOnSelection\"]'\n",
    ").text"
   ]
  },
  {
   "cell_type": "code",
   "execution_count": 146,
   "metadata": {},
   "outputs": [
    {
     "name": "stdout",
     "output_type": "stream",
     "text": [
      "6th Jun 2022\n"
     ]
    },
    {
     "data": {
      "text/plain": [
       "'20220606'"
      ]
     },
     "execution_count": 146,
     "metadata": {},
     "output_type": "execute_result"
    }
   ],
   "source": [
    "# date\n",
    "date = browser.find_element(\n",
    "    by=By.XPATH, \n",
    "    value='.//*[@class=\"PostsPageDate-date\"]'\n",
    ").text\n",
    "print(date)\n",
    "date = date_into_ds(date)\n",
    "date"
   ]
  },
  {
   "cell_type": "code",
   "execution_count": 210,
   "metadata": {},
   "outputs": [],
   "source": [
    "# for start\n",
    "# with open('title_url.json') as json_file:\n",
    "#     urls = json.load(json_file)\n",
    "\n",
    "# for continue\n",
    "with open('title_url_text.json') as json_file:\n",
    "    urls = json.load(json_file)"
   ]
  },
  {
   "cell_type": "code",
   "execution_count": 209,
   "metadata": {},
   "outputs": [],
   "source": [
    "browser = get_empty_browser()"
   ]
  },
  {
   "cell_type": "code",
   "execution_count": 211,
   "metadata": {},
   "outputs": [
    {
     "name": "stderr",
     "output_type": "stream",
     "text": [
      "100%|██████████| 510/510 [10:07<00:00,  1.19s/it]\n"
     ]
    }
   ],
   "source": [
    "for key, data in tqdm(urls.items()):\n",
    "    if data.get('text'):\n",
    "        continue\n",
    "    \n",
    "    browser.get(data['url'])\n",
    "    date = browser.find_element(\n",
    "        by=By.XPATH, \n",
    "        value='.//*[@class=\"PostsPageDate-date\"]'\n",
    "    ).text\n",
    "    urls[key]['date'] = date\n",
    "\n",
    "    text = browser.find_element(\n",
    "        by=By.XPATH, \n",
    "        value='.//*[@class=\"commentOnSelection\"]'\n",
    "    ).text\n",
    "    urls[key]['text'] = text\n",
    "\n",
    "    time.sleep(1)"
   ]
  },
  {
   "cell_type": "code",
   "execution_count": 215,
   "metadata": {},
   "outputs": [
    {
     "data": {
      "text/plain": [
       "{'date': '13th Oct 2012',\n",
       " 'karma': 134,\n",
       " 'n_comments': 284,\n",
       " 'text': 'Suppose a general-population survey shows that people who exercise less, weigh more. You don\\'t have any known direction of time in the data - you don\\'t know which came first, the increased weight or the diminished exercise. And you didn\\'t randomly assign half the population to exercise less; you just surveyed an existing population.\\nThe statisticians who discovered causality were trying to find a way to distinguish, within survey data, the direction of cause and effect - whether, as common sense would have it, more obese people exercise less because they find physical activity less rewarding; or whether, as in the virtue theory of metabolism, lack of exercise actually causes weight gain due to divine punishment for the sin of sloth.\\n vs. \\nThe usual way to resolve this sort of question is by randomized intervention. If you randomly assign half your experimental subjects to exercise more, and afterward the increased-exercise group doesn\\'t lose any weight compared to the control group [1], you could rule out causality from exercise to weight, and conclude that the correlation between weight and exercise is probably due to physical activity being less fun when you\\'re overweight [3]. The question is whether you can get causal data without interventions.\\nFor a long time, the conventional wisdom in philosophy was that this was impossible unless you knew the direction of time and knew which event had happened first. Among some philosophers of science, there was a belief that the \"direction of causality\" was a meaningless question, and that in the universe itself there were only correlations - that \"cause and effect\" was something unobservable and undefinable, that only unsophisticated non-statisticians believed in due to their lack of formal training:\\n\"The law of causality, I believe, like much that passes muster among philosophers, is a relic of a bygone age, surviving, like the monarchy, only because it is erroneously supposed to do no harm.\" -- Bertrand Russell (he later changed his mind)\\n\"Beyond such discarded fundamentals as \\'matter\\' and \\'force\\' lies still another fetish among the inscrutable arcana of modern science, namely, the category of cause and effect.\" -- Karl Pearson\\nThe famous statistician Fisher, who was also a smoker, testified before Congress that the correlation between smoking and lung cancer couldn\\'t prove that the former caused the latter.  We have remnants of this type of reasoning in old-school \"Correlation does not imply causation\", without the now-standard appendix, \"But it sure is a hint\".\\nThis skepticism was overturned by a surprisingly simple mathematical observation.\\nLet\\'s say there are three variables in the survey data: Weight, how much the person exercises, and how much time they spend on the Internet.\\nFor simplicity, we\\'ll have these three variables be binary, yes-or-no observations: Y or N for whether the person has a BMI over 25, Y or N for whether they exercised at least twice in the last week, and Y or N for whether they\\'ve checked Reddit in the last 72 hours.\\nNow let\\'s say our gathered data looks like this:\\nOverweight Exercise Internet #\\nY Y Y  1,119\\nY Y N  16,104\\nY N Y  11,121\\nY N N  60,032\\nN Y Y  18,102\\nN Y N  132,111\\nN N Y  29,120\\nN N N  155,033\\nAnd lo, merely by eyeballing this data -\\n(which is totally made up, so don\\'t go actually believing the conclusion I\\'m about to draw)\\n- we now realize that being overweight and spending time on the Internet both cause you to exercise less, presumably because exercise is less fun and you have more alternative things to do, but exercising has no causal influence on body weight or Internet use.\\n\"What!\" you cry. \"How can you tell that just by inspecting those numbers? You can\\'t say that exercise isn\\'t correlated to body weight - if you just look at all the members of the population who exercise, they clearly have lower weights. 10% of exercisers are overweight, vs. 28% of non-exercisers.  How could you rule out the obvious causal explanation for that correlation, just by looking at this data?\"\\nThere\\'s a wee bit of math involved.  It\\'s simple math - the part we\\'ll use doesn\\'t involve solving equations or complicated proofs -but we do have to introduce a wee bit of novel math to explain how the heck we got there from here.\\nLet me start with a question that turned out - to the surprise of many investigators involved - to be highly related to the issue we\\'ve just addressed.\\nSuppose that earthquakes and burglars can both set off burglar alarms.  If the burglar alarm in your house goes off, it might be because of an actual burglar, but it might also be because a minor earthquake rocked your house and triggered a few sensors. Early investigators in Artificial Intelligence, who were trying to represent all high-level events using primitive tokens in a first-order logic (for reasons of historical stupidity we won\\'t go into) were stymied by the following apparent paradox:\\nIf you tell me that my burglar alarm went off, I infer a burglar, which I will represent in my first-order-logical database using a theorem ⊢ ALARM → BURGLAR. (The symbol \"⊢\" is called \"turnstile\" and means \"the logical system asserts that\".)\\nIf an earthquake occurs, it will set off burglar alarms. I shall represent this using the theorem ⊢ EARTHQUAKE → ALARM, or \"earthquake implies alarm\".\\nIf you tell me that my alarm went off, and then further tell me that an earthquake occurred, it explains away my burglar alarm going off. I don\\'t need to explain the alarm by a burglar, because the alarm has already been explained by the earthquake. I conclude there was no burglar. I shall represent this by adding a theorem which says ⊢ (EARTHQUAKE & ALARM) → NOT BURGLAR.\\nWhich represents a logical contradiction, and for a while there were attempts to develop \"non-monotonic logics\" so that you could retract conclusions given additional data. This didn\\'t work very well, since the underlying structure of reasoning was a terrible fit for the structure of classical logic, even when mutated.\\nJust changing certainties to quantitative probabilities can fix many problems with classical logic, and one might think that this case was likewise easily fixed.\\nNamely, just write a probability table of all possible combinations of earthquake or ¬earthquake, burglar or ¬burglar, and alarm or ¬alarm (where ¬ is the logical negation symbol), with the following entries:\\nBurglar Earthquake Alarm %\\nb e a .000162\\nb e ¬a .0000085\\nb ¬e a .0151\\nb ¬e ¬a .00168\\n¬b e a .0078\\n¬b e ¬a .002\\n¬b ¬e a .00097\\n¬b ¬e ¬a .972\\nUsing the operations of marginalization and conditionalization, we get the desired reasoning back out:\\nLet\\'s start with the probability of a burglar given an alarm, p(burglar|alarm). By the law of conditional probability,\\ni.e. the relative fraction of cases where there\\'s an alarm and a burglar, within the set of all cases where there\\'s an alarm.\\nThe table doesn\\'t directly tell us p(alarm & burglar)/p(alarm), but by the law of marginal probability,\\nSimilarly, to get the probability of an alarm going off, p(alarm), we add up all the different sets of events that involve an alarm going off - entries 1, 3, 5, and 7 in the table.\\nSo the entire set of calculations looks like this:\\nIf I hear a burglar alarm, I conclude there was probably (63%) a burglar. \\nIf I learn about an earthquake, I conclude there was probably (80%) an alarm. \\nI hear about an alarm and then hear about an earthquake; I conclude there was probably (98%) no burglar. \\nThus, a joint probability distribution is indeed capable of representing the reasoning-behaviors we want.\\nSo is our problem solved? Our work done?\\nNot in real life or real Artificial Intelligence work. The problem is that this solution doesn\\'t scale. Boy howdy, does it not scale! If you have a model containing forty binary variables - alert readers may notice that the observed physical universe contains at least forty things - and you try to write out the joint probability distribution over all combinations of those variables, it looks like this:\\n.0000000000112 YYYYYYYYYYYYYYYYYYYYYYYYYYYYYYYYYYYYYYYY\\n.000000000000034 YYYYYYYYYYYYYYYYYYYYYYYYYYYYYYYYYYYYYYYN\\n.00000000000991 YYYYYYYYYYYYYYYYYYYYYYYYYYYYYYYYYYYYYYNY\\n.00000000000532 YYYYYYYYYYYYYYYYYYYYYYYYYYYYYYYYYYYYYYNN\\n.000000000145 YYYYYYYYYYYYYYYYYYYYYYYYYYYYYYYYYYYYYNYY\\n ... ...\\n(1,099,511,627,776 entries)\\nThis isn\\'t merely a storage problem. In terms of storage, a trillion entries is just a terabyte or three. The real problem is learning a table like that. You have to deduce 1,099,511,627,776 floating-point probabilities from observed data, and the only constraint on this giant table is that all the probabilities must sum to exactly 1.0, a problem with 1,099,511,627,775 degrees of freedom. (If you know the first 1,099,511,627,775 numbers, you can deduce the 1,099,511,627,776th number using the constraint that they all sum to exactly 1.0.) It\\'s not the storage cost that kills you in a problem with forty variables, it\\'s the difficulty of gathering enough observational data to constrain a trillion different parameters. And in a universe containing seventy things, things are even worse.\\nSo instead, suppose we approached the earthquake-burglar problem by trying to specify probabilities in a format where... never mind, it\\'s easier to just give an example before stating abstract rules.\\nFirst let\\'s add, for purposes of further illustration, a new variable, \"Recession\", whether or not there\\'s a depressed economy at the time. Now suppose that:\\nThe probability of an earthquake is 0.01.\\nThe probability of a recession at any given time is 0.33 (or 1/3).\\nThe probability of a burglary given a recession is 0.04; or, given no recession, 0.01.\\nAn earthquake is 0.8 likely to set off your burglar alarm; a burglar is 0.9 likely to set off your burglar alarm.  And - we can\\'t compute this model fully without this info - the combination of a burglar and an earthquake is 0.95 likely to set off the alarm; and in the absence of either burglars or earthquakes, your alarm has a 0.001 chance of going off anyway.\\np(r) .33\\np(¬r) .67\\np(a|be) .95\\np(a|b¬e) .9\\np(a|¬be) .797\\np(a|¬b¬e) .001\\np(¬a|be) .05\\np(¬a|b¬e) .1\\np(¬a|¬be) .203\\np(¬a|¬b¬e) .999\\np(e) .01\\np(¬e) .99\\np(b|r) .04\\np(b|¬r) .01\\np(¬b|r) .96\\np(¬b|¬r) .99\\nAccording to this model, if you want to know \"The probability that an earthquake occurs\" - just the probability of that one variable, without talking about any others - you can directly look up p(e) = .01. On the other hand, if you want to know the probability of a burglar striking, you have to first look up the probability of a recession (.33), and then p(b|r) and p(b|¬r), and sum up p(b|r)*p(r) + p(b|¬r)*p(¬r) to get a net probability of .01*.66 + .04*.33 = .02 = p(b), a 2% probability that a burglar is around at some random time.\\nIf we want to compute the joint probability of four values for all four variables - for example, the probability that there is no earthquake and no recession and a burglar and the alarm goes off - this causal model computes this joint probability as the product:\\nIn general, to go from a causal model to a probability distribution, we compute, for each setting of all the variables, the product\\nmultiplying together the conditional probability of each variable given the values of its immediate parents.  (If a node has no parents, the probability table for it has just an unconditional probability, like \"the chance of an earthquake is .01\".)\\nThis is a causal model because it corresponds to a world in which each event is directly caused by only a small set of other events, its parent nodes in the graph. In this model, a recession can indirectly cause an alarm to go off - the recession increases the probability of a burglar, who in turn sets off an alarm - but the recession only acts on the alarm through the intermediate cause of the burglar.  (Contrast to a model where recessions set off burglar alarms directly.)\\nvs.\\nThe first diagram implies that once we already know whether or not there\\'s a burglar, we don\\'t learn anything more about the probability of a burglar alarm, if we find out that there\\'s a recession:\\nThis is a fundamental illustration of the locality of causality - once I know there\\'s a burglar, I know everything I need to know to calculate the probability that there\\'s an alarm.  Knowing the state of Burglar screens off anything that Recession could tell me about Alarm - even though, if I didn\\'t know the value of the Burglar variable, Recessions would appear to be statistically correlated with Alarms.  The present screens off the past from the future; in a causal system, if you know the exact, complete state of the present, the state of the past has no further physical relevance to computing the future.  It\\'s how, in a system containing many correlations (like the recession-alarm correlation), it\\'s still possible to compute each variable just by looking at a small number of immediate neighbors.\\nConstraints like this are also how we can store a causal model - and much more importantly, learn a causal model - with many fewer parameters than the naked, raw, joint probability distribution.\\nLet\\'s illustrate this using a simplified version of this graph, which only talks about earthquakes and recessions. We could consider three hypothetical causal diagrams over only these two variables:\\np(r) 0.03\\np(¬r) 0.97\\np(e) 0.29\\np(¬e) 0.71\\np(E&R)=p(E)p(R)\\n  p(e) 0.29\\np(¬e) 0.71\\np(r|e) 0.15\\np(¬r|e) 0.85\\np(r|¬e) 0.03\\np(¬r|¬e) 0.97\\np(E&R) = p(E)p(R|E)\\n  p(r) 0.03\\np(¬r) 0.97\\np(e|r) 0.24\\np(¬e|r) 0.76\\np(e|¬r) 0.09\\np(¬e|¬r) 0.91\\np(E&R) = p(R)p(E|R)\\nLet\\'s consider the first hypothesis - that there\\'s no causal arrows connecting earthquakes and recessions. If we build a causal model around this diagram, it has 2 real degrees of freedom - a degree of freedom for saying that the probability of an earthquake is, say, 29% (and hence that the probability of not-earthquake is necessarily 71%), and another degree of freedom for saying that the probability of a recession is 3% (and hence the probability of not-recession is constrained to be 97%).\\nOn the other hand, the full joint probability distribution would have 3 degrees of freedom - a free choice of (earthquake&recession), a choice of p(earthquake&¬recession), a choice of p(¬earthquake&recession), and then a constrained p(¬earthquake&¬recession) which must be equal to 1 minus the sum of the other three, so that all four probabilities sum to 1.0.\\nBy the pigeonhole principle (you can\\'t fit 3 pigeons into 2 pigeonholes) there must be some joint probability distributions which cannot be represented in the first causal structure. This means the first causal structure is falsifiable; there\\'s survey data we can get which would lead us to reject it as a hypothesis. In particular, the first causal model requires:\\nor equivalently\\nor equivalently\\nwhich is a conditional independence constraint - it says that learning about recessions doesn\\'t tell us anything about the probability of an earthquake or vice versa. If we find that earthquakes and recessions are highly correlated in the observed data - if earthquakes and recessions go together, or earthquakes and the absence of recessions go together - it falsifies the first causal model.\\nFor example, let\\'s say that in your state, an earthquake is 0.1 probable per year and a recession is 0.2 probable. If we suppose that earthquakes don\\'t cause recessions, earthquakes are not an effect of recessions, and that there aren\\'t hidden aliens which produce both earthquakes and recessions, then we should find that years in which there are earthquakes and recessions happen around 0.02 of the time. If instead earthquakes and recessions happen 0.08 of the time, then the probability of a recession given an earthquake is 0.8 instead of 0.2, and we should much more strongly expect a recession any time we are told that an earthquake has occurred. Given enough samples, this falsifies the theory that these factors are unconnected; or rather, the more samples we have, the more we disbelieve that the two events are unconnected.\\nOn the other hand, we can\\'t tell apart the second two possibilities from survey data, because both causal models have 3 degrees of freedom, which is the size of the full joint probability distribution. (In general, fully connected causal graphs in which there\\'s a line between every pair of nodes, have the same number of degrees of freedom as a raw joint distribution - and 2 nodes connected by 1 line are \"fully connected\".) We can\\'t tell if earthquakes are 0.1 likely and cause recessions with 0.8 probability, or recessions are 0.2 likely and cause earthquakes with 0.4 probability (or if there are hidden aliens which on 6% of years show up and cause earthquakes and recessions with probability 1).\\nWith larger universes, the difference between causal models and joint probability distributions becomes a lot more striking. If we\\'re trying to reason about a million binary variables connected in a huge causal model, and each variable could have up to four direct \\'parents\\' - four other variables that directly exert a causal effect on it - then the total number of free parameters would be at most... 16 million!\\nThe number of free parameters in a raw joint probability distribution over a million binary variables would be 21,000,000. Minus one.\\nSo causal models which are less than fully connected - in which most objects in the universe are not the direct cause or direct effect of everything else in the universe - are very strongly falsifiable; they only allow probability distributions (hence, observed frequencies) in an infinitesimally tiny range of all possible joint probability tables. Causal models very strongly constrain anticipation - disallow almost all possible patterns of observed frequencies - and gain mighty Bayesian advantages when these predictions come true.\\nTo see this effect at work, let\\'s consider the three variables Recession, Burglar, and Alarm.\\nAlarm Burglar Recession %\\nY Y Y .012\\nN Y Y .0013\\nY N Y .00287\\nN N Y .317\\nY Y N .003\\nN Y N .000333\\nY N N .00591\\nN N N .654\\nAll three variables seem correlated to each other when considered two at a time. For example, if we consider Recessions and Alarms, they should seem correlated because recessions cause burglars which cause alarms. If we learn there was an alarm, for example, we conclude it\\'s more probable that there was a recession. So since all three variables are correlated, can we distinguish between, say, these three causal models?\\n         Yes we can! Among these causal models, the prediction which only the first model makes, which is not shared by either of the other two, is that once we know whether a burglar is there, we learn nothing more about whether there was an alarm by finding out that there was a recession, since recessions only affect alarms through the intermediary of burglars:\\nBut the third model, in which recessions directly cause alarms, which only then cause burglars, does not have this property. If I know that a burglar has appeared, it\\'s likely that an alarm caused the burglar - but it\\'s even more likely that there was an alarm, if there was a recession around to cause the alarm! So the third model predicts:\\nAnd in the second model, where alarms and recessions both cause burglars, we again don\\'t have the conditional independence. If we know that there\\'s a burglar, then we think that either an alarm or a recession caused it; and if we\\'re told that there\\'s an alarm, we\\'d conclude it was less likely that there was a recession, since the recession had been explained away.\\n(This may seem a bit clearer by considering the scenario B->A<-E, where burglars and earthquakes both cause alarms. If we\\'re told the value of the bottom node, that there was an alarm, the probability of there being a burglar is not independent of whether we\\'re told there was an earthquake - the two top nodes are not conditionally independent once we condition on the bottom node.)\\nOn the other hand, we can\\'t tell the difference between:\\nvs.\\nvs.\\nusing only this data and no other variables, because all three causal structures predict the same pattern of conditional dependence and independence - three variables which all appear mutually correlated, but Alarm and Recession become independent once you condition on Burglar.\\nBeing able to read off patterns of conditional dependence and independence is an art known as \"D-separation\", and if you\\'re good at it you can glance at a diagram like this...\\n...and see that, once we already know the Season, whether the Sprinkler is on and whether it is Raining are conditionally independent of each other - if we\\'re told that it\\'s Raining we conclude nothing about whether or not the Sprinkler is on. But if we then further observe that the sidewalk is Slippery, then Sprinkler and Rain become conditionally dependent once more, because if the Sidewalk is Slippery then it is probably Wet and this can be explained by either the Sprinkler or the Rain but probably not both, i.e. if we\\'re told that it\\'s Raining we conclude that it\\'s less likely that the Sprinkler was on.\\nOkay, back to the obesity-exercise-Internet example. You may recall that we had the following observed frequencies:\\nOverweight Exercise Internet #\\nY Y Y  1,119\\nY Y N  16,104\\nY N Y  11,121\\nY N N  60,032\\nN Y Y  18,102\\nN Y N  132,111\\nN N Y  29,120\\nN N N  155,033\\nDo you see where this is going?\\n\"Er,\" you reply, \"Maybe if I had a calculator and ten minutes... you want to just go ahead and spell it out?\"\\nSure! First, we marginalize over the \\'exercise\\' variable to get the table for just weight and Internet use. We do this by taking the 1,119 people who are YYY, overweight and Reddit users and exercising, and the 11,121 people who are overweight and non-exercising and Reddit users, YNY, and adding them together to get 12,240 total people who are overweight Reddit users:\\nOverweight Internet #\\nY Y 12,240\\nY N 76,136\\nN Y 47,222\\nN N 287,144\\n\"And then?\"\\nWell, that suggests that the probability of using Reddit, given that your weight is normal, is the same as the probability that you use Reddit, given that you\\'re overweight. 47,222 out of 334,366 normal-weight people use Reddit, and 12,240 out of 88,376 overweight people use Reddit. That\\'s about 14% either way.\\n\"And so we conclude?\"\\nWell, first we conclude it\\'s not particularly likely that using Reddit causes weight gain, or that being overweight causes people to use Reddit:\\n  If either of those causal links existed, those two variables should be correlated. We shouldn\\'t find the lack of correlation or conditional independence that we just discovered.\\nNext, imagine that the real causal graph looked like this:\\nIn this graph, exercising causes you to be less likely to be overweight (due to the virtue theory of metabolism), and exercising causes you to spend less time on the Internet (because you have less time for it).\\nBut in this case we should not see that the groups who are/aren\\'t overweight have the same probability of spending time on Reddit. There should be an outsized group of people who are both normal-weight and non-Redditors (because they exercise), and an outsized group of non-exercisers who are overweight and Reddit-using.\\nSo that causal graph is also ruled out by the data, as are others like:\\n       Leaving only this causal graph:\\nWhich says that weight and Internet use exert causal effects on exercise, but exercise doesn\\'t causally affect either.\\nAll this discipline was invented and systematized by Judea Pearl, Peter Spirtes, Thomas Verma, and a number of other people in the 1980s and you should be quite impressed by their accomplishment, because before then, inferring causality from correlation was thought to be a fundamentally unsolvable problem. The standard volume on causal structure is Causality by Judea Pearl.\\nCausal models (with specific probabilities attached) are sometimes known as \"Bayesian networks\" or \"Bayes nets\", since they were invented by Bayesians and make use of Bayes\\'s Theorem. They have all sorts of neat computational advantages which are far beyond the scope of this introduction - e.g. in many cases you can split up a Bayesian network into parts, put each of the parts on its own computer processor, and then update on three different pieces of evidence at once using a neatly local message-passing algorithm in which each node talks only to its immediate neighbors and when all the updates are finished propagating the whole network has settled into the correct state. For more on this see Judea Pearl\\'s Probabilistic Reasoning in Intelligent Systems: Networks of Plausible Inference which is the original book on Bayes nets and still the best introduction I\\'ve personally happened to read.\\n2\\n [1] Somewhat to my own shame, I must admit to ignoring my own observations in this department - even after I saw no discernible effect on my weight or my musculature from aerobic exercise and strength training 2 hours a day 3 times a week, I didn\\'t really start believing that the virtue theory of metabolism was wrong [2] until after other people had started the skeptical dogpile.\\n [2] I should mention, though, that I have confirmed a personal effect where eating enough cookies (at a convention where no protein is available) will cause weight gain afterward. There\\'s no other discernible correlation between my carbs/protein/fat allocations and weight gain, just that eating sweets in large quantities can cause weight gain afterward. This admittedly does bear with the straight-out virtue theory of metabolism, i.e., eating pleasurable foods is sinful weakness and hence punished with fat.\\n [3] Or there might be some hidden third factor, a gene which causes both fat and non-exercise. By Occam\\'s Razor this is more complicated and its probability is penalized accordingly, but we can\\'t actually rule it out. It is obviously impossible to do the converse experiment where half the subjects are randomly assigned lower weights, since there\\'s no known intervention which can cause weight loss.\\nMainstream status:  This is meant to be an introduction to completely bog-standard Bayesian networks, causal models, and causal diagrams.  Any departures from mainstream academic views are errors and should be flagged accordingly.\\nPart of the sequence Highly Advanced Epistemology 101 for Beginners\\nNext post: \"Stuff That Makes Stuff Happen\"\\nPrevious post: \"The Fabric of Real Things\"',\n",
       " 'title': 'Causal Diagrams and Causal Models',\n",
       " 'url': 'https://www.lesswrong.com/posts/hzuSDMx7pd2uxFc5w/causal-diagrams-and-causal-models'}"
      ]
     },
     "execution_count": 215,
     "metadata": {},
     "output_type": "execute_result"
    }
   ],
   "source": [
    "urls['116']"
   ]
  },
  {
   "cell_type": "code",
   "execution_count": 212,
   "metadata": {},
   "outputs": [
    {
     "data": {
      "text/plain": [
       "(510, 1.0)"
      ]
     },
     "execution_count": 212,
     "metadata": {},
     "output_type": "execute_result"
    }
   ],
   "source": [
    "cnt = 0\n",
    "for key, data in urls.items():\n",
    "    if data.get('text'):\n",
    "        cnt += 1\n",
    "cnt, cnt / len(urls)"
   ]
  },
  {
   "cell_type": "code",
   "execution_count": 213,
   "metadata": {},
   "outputs": [],
   "source": [
    "with open('title_url_text.json', \"w\") as fp:\n",
    "    json.dump(urls, fp, sort_keys=True, indent=4, ensure_ascii=False)"
   ]
  },
  {
   "cell_type": "code",
   "execution_count": null,
   "metadata": {},
   "outputs": [],
   "source": []
  }
 ],
 "metadata": {
  "kernelspec": {
   "display_name": "work",
   "language": "python",
   "name": "python3"
  },
  "language_info": {
   "codemirror_mode": {
    "name": "ipython",
    "version": 3
   },
   "file_extension": ".py",
   "mimetype": "text/x-python",
   "name": "python",
   "nbconvert_exporter": "python",
   "pygments_lexer": "ipython3",
   "version": "3.8.12"
  },
  "orig_nbformat": 4,
  "vscode": {
   "interpreter": {
    "hash": "6987f2a5fb1f1e9588090aba5fb33b972c0d2354d40dab55fd453bc62257839d"
   }
  }
 },
 "nbformat": 4,
 "nbformat_minor": 2
}
